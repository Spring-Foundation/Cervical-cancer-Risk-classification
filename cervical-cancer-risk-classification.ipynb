{
 "cells": [
  {
   "cell_type": "code",
   "execution_count": null,
   "metadata": {
    "_uuid": "d09a34dccb023fc8656fde9dc1c570b1a343da5d",
    "execution": {
     "iopub.execute_input": "2021-11-27T07:40:38.257166Z",
     "iopub.status.busy": "2021-11-27T07:40:38.256873Z",
     "iopub.status.idle": "2021-11-27T07:40:38.266986Z",
     "shell.execute_reply": "2021-11-27T07:40:38.266291Z",
     "shell.execute_reply.started": "2021-11-27T07:40:38.257122Z"
    }
   },
   "outputs": [],
   "source": [
    "import pandas as pd\n",
    "import numpy as np\n",
    "import matplotlib.pyplot as plt\n",
    "%matplotlib inline\n",
    "import math\n",
    "import seaborn as sns"
   ]
  },
  {
   "cell_type": "code",
   "execution_count": null,
   "metadata": {
    "_uuid": "3afc60d026277ef31c80ee47bf4fe25b3f4a267b",
    "execution": {
     "iopub.execute_input": "2021-11-27T07:40:39.079636Z",
     "iopub.status.busy": "2021-11-27T07:40:39.078961Z",
     "iopub.status.idle": "2021-11-27T07:40:39.146488Z",
     "shell.execute_reply": "2021-11-27T07:40:39.14568Z",
     "shell.execute_reply.started": "2021-11-27T07:40:39.079574Z"
    }
   },
   "outputs": [],
   "source": [
    "cancer_df = pd.read_csv('../input/kag_risk_factors_cervical_cancer.csv')\n",
    "cancer_df.head(20)"
   ]
  },
  {
   "cell_type": "code",
   "execution_count": null,
   "metadata": {
    "_uuid": "77d2f5eca3855b1f027eb3c90586b66bb2be33d4",
    "execution": {
     "iopub.execute_input": "2021-11-27T07:40:39.966777Z",
     "iopub.status.busy": "2021-11-27T07:40:39.966307Z",
     "iopub.status.idle": "2021-11-27T07:40:39.977875Z",
     "shell.execute_reply": "2021-11-27T07:40:39.97704Z",
     "shell.execute_reply.started": "2021-11-27T07:40:39.966736Z"
    }
   },
   "outputs": [],
   "source": [
    "cancer_df.info()"
   ]
  },
  {
   "cell_type": "code",
   "execution_count": null,
   "metadata": {
    "execution": {
     "iopub.execute_input": "2021-11-27T07:40:42.108355Z",
     "iopub.status.busy": "2021-11-27T07:40:42.108005Z",
     "iopub.status.idle": "2021-11-27T07:40:42.113298Z",
     "shell.execute_reply": "2021-11-27T07:40:42.112469Z",
     "shell.execute_reply.started": "2021-11-27T07:40:42.108288Z"
    }
   },
   "outputs": [],
   "source": [
    "cancer_df.shape"
   ]
  },
  {
   "cell_type": "code",
   "execution_count": null,
   "metadata": {
    "execution": {
     "iopub.execute_input": "2021-11-27T07:40:42.905621Z",
     "iopub.status.busy": "2021-11-27T07:40:42.905132Z",
     "iopub.status.idle": "2021-11-27T07:40:42.910185Z",
     "shell.execute_reply": "2021-11-27T07:40:42.909611Z",
     "shell.execute_reply.started": "2021-11-27T07:40:42.905578Z"
    }
   },
   "outputs": [],
   "source": [
    "cancer_df.columns"
   ]
  },
  {
   "cell_type": "code",
   "execution_count": null,
   "metadata": {
    "execution": {
     "iopub.execute_input": "2021-11-27T07:40:43.729689Z",
     "iopub.status.busy": "2021-11-27T07:40:43.729088Z",
     "iopub.status.idle": "2021-11-27T07:40:43.735673Z",
     "shell.execute_reply": "2021-11-27T07:40:43.735069Z",
     "shell.execute_reply.started": "2021-11-27T07:40:43.729636Z"
    }
   },
   "outputs": [],
   "source": [
    "print(cancer_df.isnull().values.any())\n"
   ]
  },
  {
   "cell_type": "code",
   "execution_count": null,
   "metadata": {
    "_uuid": "7f527ba8e7be572a74a54583c4524454175ea94d",
    "execution": {
     "iopub.execute_input": "2021-11-27T07:40:45.536841Z",
     "iopub.status.busy": "2021-11-27T07:40:45.536286Z",
     "iopub.status.idle": "2021-11-27T07:40:45.546103Z",
     "shell.execute_reply": "2021-11-27T07:40:45.545443Z",
     "shell.execute_reply.started": "2021-11-27T07:40:45.536795Z"
    }
   },
   "outputs": [],
   "source": [
    "## dropping two columns of STDs as it does not give much information because of missing data\n",
    "\n",
    "cancer_df.drop(['STDs: Time since first diagnosis','STDs: Time since last diagnosis'],inplace=True,axis=1)"
   ]
  },
  {
   "cell_type": "code",
   "execution_count": null,
   "metadata": {
    "_uuid": "43645178f9ebd40fb93bb5440ffe9d14941c4492",
    "execution": {
     "iopub.execute_input": "2021-11-27T07:40:46.135918Z",
     "iopub.status.busy": "2021-11-27T07:40:46.13533Z",
     "iopub.status.idle": "2021-11-27T07:40:46.141519Z",
     "shell.execute_reply": "2021-11-27T07:40:46.14074Z",
     "shell.execute_reply.started": "2021-11-27T07:40:46.135867Z"
    }
   },
   "outputs": [],
   "source": [
    "numerical_df = ['Age', 'Number of sexual partners', 'First sexual intercourse','Num of pregnancies', 'Smokes (years)',\n",
    "                'Smokes (packs/year)','Hormonal Contraceptives (years)','IUD (years)','STDs (number)']\n",
    "categorical_df = ['Smokes','Hormonal Contraceptives','IUD','STDs','STDs:condylomatosis','STDs:cervical condylomatosis',\n",
    "                  'STDs:vaginal condylomatosis','STDs:vulvo-perineal condylomatosis', 'STDs:syphilis',\n",
    "                  'STDs:pelvic inflammatory disease', 'STDs:genital herpes','STDs:molluscum contagiosum', 'STDs:AIDS', \n",
    "                  'STDs:HIV','STDs:Hepatitis B', 'STDs:HPV', 'STDs: Number of diagnosis','Dx:Cancer', 'Dx:CIN', \n",
    "                  'Dx:HPV', 'Dx', 'Hinselmann', 'Schiller','Citology', 'Biopsy']"
   ]
  },
  {
   "cell_type": "code",
   "execution_count": null,
   "metadata": {
    "_uuid": "1d05bdb94b40a22ffd74b0f15eb3d694fef091de",
    "execution": {
     "iopub.execute_input": "2021-11-27T07:40:46.821827Z",
     "iopub.status.busy": "2021-11-27T07:40:46.82139Z",
     "iopub.status.idle": "2021-11-27T07:40:46.831137Z",
     "shell.execute_reply": "2021-11-27T07:40:46.8301Z",
     "shell.execute_reply.started": "2021-11-27T07:40:46.821786Z"
    }
   },
   "outputs": [],
   "source": [
    "cancer_df = cancer_df.replace('?', np.NaN)"
   ]
  },
  {
   "cell_type": "code",
   "execution_count": null,
   "metadata": {
    "_uuid": "bececc330973715f62799da2151989a88124843f",
    "execution": {
     "iopub.execute_input": "2021-11-27T07:40:47.453595Z",
     "iopub.status.busy": "2021-11-27T07:40:47.453309Z",
     "iopub.status.idle": "2021-11-27T07:40:47.480274Z",
     "shell.execute_reply": "2021-11-27T07:40:47.479282Z",
     "shell.execute_reply.started": "2021-11-27T07:40:47.453551Z"
    }
   },
   "outputs": [],
   "source": [
    "### Filling the missing values of numeric data columns with mean of the column data.\n",
    "for feature in numerical_df:\n",
    "    print(feature,'',cancer_df[feature].convert_objects(convert_numeric=True).mean())\n",
    "    feature_mean = round(cancer_df[feature].convert_objects(convert_numeric=True).mean(),1)\n",
    "    cancer_df[feature] = cancer_df[feature].fillna(feature_mean)\n",
    "    "
   ]
  },
  {
   "cell_type": "code",
   "execution_count": null,
   "metadata": {
    "_uuid": "2d1bf121a7da658ce4e1e5d63c187e924b615889",
    "execution": {
     "iopub.execute_input": "2021-11-27T07:40:48.308692Z",
     "iopub.status.busy": "2021-11-27T07:40:48.308427Z",
     "iopub.status.idle": "2021-11-27T07:40:48.331653Z",
     "shell.execute_reply": "2021-11-27T07:40:48.330323Z",
     "shell.execute_reply.started": "2021-11-27T07:40:48.30865Z"
    }
   },
   "outputs": [],
   "source": [
    "for feature in categorical_df:\n",
    "    \n",
    "    cancer_df[feature] = cancer_df[feature].convert_objects(convert_numeric=True).fillna(1.0)"
   ]
  },
  {
   "cell_type": "code",
   "execution_count": null,
   "metadata": {
    "_uuid": "a081d5dded9ee6173ea47971f7f40c998726883a",
    "execution": {
     "iopub.execute_input": "2021-11-27T07:40:49.739495Z",
     "iopub.status.busy": "2021-11-27T07:40:49.739199Z",
     "iopub.status.idle": "2021-11-27T07:40:49.743158Z",
     "shell.execute_reply": "2021-11-27T07:40:49.742347Z",
     "shell.execute_reply.started": "2021-11-27T07:40:49.739451Z"
    }
   },
   "outputs": [],
   "source": [
    "category_df = ['Hinselmann', 'Schiller','Citology', 'Biopsy']"
   ]
  },
  {
   "cell_type": "code",
   "execution_count": null,
   "metadata": {
    "_uuid": "3bd3d9f79e1f32e6bdf3f1d3927350684fb0721d",
    "execution": {
     "iopub.execute_input": "2021-11-27T07:40:50.635313Z",
     "iopub.status.busy": "2021-11-27T07:40:50.63487Z",
     "iopub.status.idle": "2021-11-27T07:40:53.59649Z",
     "shell.execute_reply": "2021-11-27T07:40:53.595779Z",
     "shell.execute_reply.started": "2021-11-27T07:40:50.635269Z"
    }
   },
   "outputs": [],
   "source": [
    "for feature in categorical_df:\n",
    "   sns.factorplot(feature,data=cancer_df,kind='count')\n",
    "\n"
   ]
  },
  {
   "cell_type": "markdown",
   "metadata": {
    "_uuid": "9d1124ffd0e23099ba622c5ab9ebfaebdbdcb20b"
   },
   "source": [
    "From the above graphs it can be seen that Harmonal Contraceptive column has the highest number of one's which indicate that this might be the important key feature in detecting the cervical cancer. So let us concentrate on this feature more in future analysis."
   ]
  },
  {
   "cell_type": "code",
   "execution_count": null,
   "metadata": {
    "_uuid": "1b04d434a3f0a742877ee74cffe961b9f378d7f0",
    "execution": {
     "iopub.execute_input": "2021-11-27T07:40:53.597778Z",
     "iopub.status.busy": "2021-11-27T07:40:53.597532Z",
     "iopub.status.idle": "2021-11-27T07:40:54.130639Z",
     "shell.execute_reply": "2021-11-27T07:40:54.129751Z",
     "shell.execute_reply.started": "2021-11-27T07:40:53.597733Z"
    }
   },
   "outputs": [],
   "source": [
    "g = sns.PairGrid(cancer_df,\n",
    "                 y_vars=['Hormonal Contraceptives'],\n",
    "                 x_vars= category_df,\n",
    "                 aspect=.75, size=3.5)\n",
    "g.map(sns.barplot, palette=\"pastel\");"
   ]
  },
  {
   "cell_type": "code",
   "execution_count": null,
   "metadata": {
    "_uuid": "4508eb91317b23dbe43c641a882c01cf5cfdb273",
    "execution": {
     "iopub.execute_input": "2021-11-27T07:40:54.622197Z",
     "iopub.status.busy": "2021-11-27T07:40:54.621723Z",
     "iopub.status.idle": "2021-11-27T07:40:54.649615Z",
     "shell.execute_reply": "2021-11-27T07:40:54.648717Z",
     "shell.execute_reply.started": "2021-11-27T07:40:54.622127Z"
    }
   },
   "outputs": [],
   "source": [
    "cancer_df['Number of sexual partners'] = round(cancer_df['Number of sexual partners'].convert_objects(convert_numeric=True))\n",
    "cancer_df['First sexual intercourse'] = cancer_df['First sexual intercourse'].convert_objects(convert_numeric=True)\n",
    "cancer_df['Num of pregnancies']=round(cancer_df['Num of pregnancies'].convert_objects(convert_numeric=True))\n",
    "cancer_df['Smokes'] = cancer_df['Smokes'].convert_objects(convert_numeric=True)\n",
    "cancer_df['Smokes (years)'] = cancer_df['Smokes (years)'].convert_objects(convert_numeric=True)\n",
    "cancer_df['Hormonal Contraceptives'] = cancer_df['Hormonal Contraceptives'].convert_objects(convert_numeric=True)\n",
    "cancer_df['Hormonal Contraceptives (years)'] = cancer_df['Hormonal Contraceptives (years)'].convert_objects(convert_numeric=True)\n",
    "cancer_df['IUD (years)'] = cancer_df['IUD (years)'].convert_objects(convert_numeric=True)\n",
    "\n",
    "print('minimum:',min(cancer_df['Hormonal Contraceptives (years)']))\n",
    "print('maximum:',max(cancer_df['Hormonal Contraceptives (years)']))"
   ]
  },
  {
   "cell_type": "code",
   "execution_count": null,
   "metadata": {
    "_uuid": "317ffc6d4f335c6c9de09c894e2bb37bf7b486a5",
    "execution": {
     "iopub.execute_input": "2021-11-27T07:40:55.320477Z",
     "iopub.status.busy": "2021-11-27T07:40:55.320025Z",
     "iopub.status.idle": "2021-11-27T07:40:55.521033Z",
     "shell.execute_reply": "2021-11-27T07:40:55.520405Z",
     "shell.execute_reply.started": "2021-11-27T07:40:55.320435Z"
    }
   },
   "outputs": [],
   "source": [
    "cancer_df['Age'].hist(bins=70)\n",
    "plt.xlabel('Age')\n",
    "plt.ylabel('Count')\n",
    "print('Mean age of the Women facing the risk of Cervical cancer',cancer_df['Age'].mean())"
   ]
  },
  {
   "cell_type": "code",
   "execution_count": null,
   "metadata": {
    "_uuid": "bea9dde341bb52ffe9cef77f8ed24c5206e764b0",
    "execution": {
     "iopub.execute_input": "2021-11-27T07:40:56.209356Z",
     "iopub.status.busy": "2021-11-27T07:40:56.209037Z",
     "iopub.status.idle": "2021-11-27T07:40:57.064956Z",
     "shell.execute_reply": "2021-11-27T07:40:57.064129Z",
     "shell.execute_reply.started": "2021-11-27T07:40:56.209301Z"
    }
   },
   "outputs": [],
   "source": [
    "for feature in category_df:\n",
    "\n",
    " as_fig = sns.FacetGrid(cancer_df,hue=feature,aspect=5)\n",
    "\n",
    " as_fig.map(sns.kdeplot,'Age',shade=True)\n",
    "\n",
    " oldest = cancer_df['Age'].max()\n",
    "\n",
    " as_fig.set(xlim=(0,oldest))\n",
    "\n",
    " as_fig.add_legend()"
   ]
  },
  {
   "cell_type": "markdown",
   "metadata": {
    "_uuid": "4daafd29fc94be25357dd59f072f674b84d28f44"
   },
   "source": [
    "From the above plots it can be seen that the mean age of the women facing the risk of cervicakl cancer is 26. Also the women with the age in range of 20 to 35 have the highest chances of developing the risk of cervical cancer. The peaks at age of 50 and the furthur extension of the density plot indicate that some of the women face the risk of cervical cancer even at that age."
   ]
  },
  {
   "cell_type": "code",
   "execution_count": null,
   "metadata": {
    "_uuid": "18c9f3470a2f5355e183a3c54cfa43cc850eabcf",
    "execution": {
     "iopub.execute_input": "2021-11-27T07:40:57.947524Z",
     "iopub.status.busy": "2021-11-27T07:40:57.946963Z",
     "iopub.status.idle": "2021-11-27T07:41:00.016899Z",
     "shell.execute_reply": "2021-11-27T07:41:00.016095Z",
     "shell.execute_reply.started": "2021-11-27T07:40:57.947199Z"
    }
   },
   "outputs": [],
   "source": [
    "for feature in category_df:\n",
    "  \n",
    "  sns.factorplot(x='Number of sexual partners',y='Age',hue=feature,data=cancer_df,aspect=1.95,kind='bar');"
   ]
  },
  {
   "cell_type": "markdown",
   "metadata": {
    "_uuid": "7dc91920ed387dafb4671ed3d612913aa261379f"
   },
   "source": [
    "As age of women increases, the number of sexual partners increases which increases the possibility of getting tumor. So we can consider that Number of Sexual partners as a key feature in detecting the Cervical Cancer. Even the resources here: https://www.mayoclinic.org/diseases-conditions/cervical-cancer/symptoms-causes/syc-20352501 supports this statement."
   ]
  },
  {
   "cell_type": "code",
   "execution_count": null,
   "metadata": {
    "_uuid": "74cc8a69bce89f6b3a482039c87e459447bb4317",
    "execution": {
     "iopub.execute_input": "2021-11-27T07:41:00.01821Z",
     "iopub.status.busy": "2021-11-27T07:41:00.017834Z",
     "iopub.status.idle": "2021-11-27T07:41:00.175884Z",
     "shell.execute_reply": "2021-11-27T07:41:00.175187Z",
     "shell.execute_reply.started": "2021-11-27T07:41:00.018159Z"
    }
   },
   "outputs": [],
   "source": [
    "sns.distplot(cancer_df['First sexual intercourse'].convert_objects(convert_numeric=True))\n",
    "#print('Mean age of the women who started the sexual intercourse',cancer_df['First sexual intercourse'].mean())"
   ]
  },
  {
   "cell_type": "markdown",
   "metadata": {
    "_uuid": "001e60be3f4ca2f798ecb1bab39149f64a291eeb"
   },
   "source": [
    "Dist plot gives an intuition that most of the women started first sexual intercourse between the age 15 to 20. "
   ]
  },
  {
   "cell_type": "code",
   "execution_count": null,
   "metadata": {
    "_uuid": "b145a4eede4ec6d3686fe9310d4b0a66bfcccf26",
    "execution": {
     "iopub.execute_input": "2021-11-27T07:41:01.153716Z",
     "iopub.status.busy": "2021-11-27T07:41:01.153236Z",
     "iopub.status.idle": "2021-11-27T07:41:01.978935Z",
     "shell.execute_reply": "2021-11-27T07:41:01.978331Z",
     "shell.execute_reply.started": "2021-11-27T07:41:01.153673Z"
    }
   },
   "outputs": [],
   "source": [
    "\n",
    "for feature in category_df:\n",
    "\n",
    " as_fig = sns.FacetGrid(cancer_df,hue=feature,aspect=5)\n",
    "\n",
    " as_fig.map(sns.kdeplot,'First sexual intercourse',shade=True)\n",
    "\n",
    " oldest = cancer_df['First sexual intercourse'].max()\n",
    "\n",
    " as_fig.set(xlim=(0,oldest))\n",
    "\n",
    " as_fig.add_legend()"
   ]
  },
  {
   "cell_type": "markdown",
   "metadata": {
    "_uuid": "84c7faba7c4dfaa05b953a561f979c503c56cbdf"
   },
   "source": [
    "The density plots shows that the women who started the Sexual intercourse at the age of 15 to 20 are having the high chances of risk. Please refer to the resources here for supporting the statement: https://www.mayoclinic.org/diseases-conditions/cervical-cancer/symptoms-causes/syc-20352501 \n",
    "So we can consider even this as the key feature in detecting the Cervical cancer."
   ]
  },
  {
   "cell_type": "code",
   "execution_count": null,
   "metadata": {
    "_uuid": "a1a2af33d1028e40eeef53d74bec8f9f9cbe15a7",
    "execution": {
     "iopub.execute_input": "2021-11-27T07:41:02.835539Z",
     "iopub.status.busy": "2021-11-27T07:41:02.835009Z",
     "iopub.status.idle": "2021-11-27T07:41:02.871155Z",
     "shell.execute_reply": "2021-11-27T07:41:02.870494Z",
     "shell.execute_reply.started": "2021-11-27T07:41:02.83548Z"
    }
   },
   "outputs": [],
   "source": [
    "preg_table = pd.crosstab(index=cancer_df[\"Hinselmann\"], \n",
    "                          columns=(cancer_df[\"Num of pregnancies\"],cancer_df['Number of sexual partners']))\n",
    "\n",
    "preg_table"
   ]
  },
  {
   "cell_type": "code",
   "execution_count": null,
   "metadata": {
    "_uuid": "85bfdde674f507ae082cf1dad4951f0c5efd09b9",
    "execution": {
     "iopub.execute_input": "2021-11-27T07:41:03.553076Z",
     "iopub.status.busy": "2021-11-27T07:41:03.55265Z",
     "iopub.status.idle": "2021-11-27T07:41:04.27797Z",
     "shell.execute_reply": "2021-11-27T07:41:04.27738Z",
     "shell.execute_reply.started": "2021-11-27T07:41:03.553036Z"
    }
   },
   "outputs": [],
   "source": [
    "fig, ax = plt.subplots(figsize=(25,5))  \n",
    "sns.heatmap(preg_table,annot=True, fmt=\"d\",cmap=\"Blues_r\",linewidths=0.5,ax=ax)"
   ]
  },
  {
   "cell_type": "markdown",
   "metadata": {
    "_uuid": "1bc7dc8d8c3520e9c4827be49db21758cecdb8c7"
   },
   "source": [
    "Data is analyzed against the number of pregnancies and the number of sexual partners. It is found that 4% of the women having number of sexual partners greater than 2 with number of pregnancies greater than 3 are facing the risk of cancer. The above is the chart for number of women facing the risk."
   ]
  },
  {
   "cell_type": "code",
   "execution_count": null,
   "metadata": {
    "_uuid": "d2eabd3f62115544ce4aa0f701c79406c6d9d303",
    "execution": {
     "iopub.execute_input": "2021-11-27T07:41:05.442545Z",
     "iopub.status.busy": "2021-11-27T07:41:05.441951Z",
     "iopub.status.idle": "2021-11-27T07:41:05.451519Z",
     "shell.execute_reply": "2021-11-27T07:41:05.450788Z",
     "shell.execute_reply.started": "2021-11-27T07:41:05.442493Z"
    }
   },
   "outputs": [],
   "source": [
    "##### Just checking to see if there is any relation between number of pregnancies and number of sexual partners\n",
    "cancer_df['Number of sexual partners'].corr(cancer_df['Num of pregnancies'])"
   ]
  },
  {
   "cell_type": "code",
   "execution_count": null,
   "metadata": {
    "_uuid": "4763dbe5a0bd65067eddcf0aa1b079015b83d5ad",
    "execution": {
     "iopub.execute_input": "2021-11-27T07:41:06.184086Z",
     "iopub.status.busy": "2021-11-27T07:41:06.183498Z",
     "iopub.status.idle": "2021-11-27T07:41:06.193511Z",
     "shell.execute_reply": "2021-11-27T07:41:06.19267Z",
     "shell.execute_reply.started": "2021-11-27T07:41:06.184037Z"
    }
   },
   "outputs": [],
   "source": [
    "\n",
    "cancer_df['Smokes (packs/year)'] = cancer_df['Smokes (packs/year)'].convert_objects(convert_numeric=True)\n",
    "print('Correlation between Smokes and Smokes (years) feature:',cancer_df['Smokes'].corr(cancer_df['Smokes (years)']))\n",
    "print('Correlation between Smokes and Smokes (packs/year) feature:',cancer_df['Smokes'].corr(cancer_df['Smokes (packs/year)']))"
   ]
  },
  {
   "cell_type": "markdown",
   "metadata": {
    "_uuid": "1dde2802ad538b06e9a2ff4fa06565e4152c70b8"
   },
   "source": [
    "From the three columns/features (Smokes, Smokes (years), Smokes (packs/year)) we can remove the column Smokes because Smokes (years) will represent the Smokes column because Smoke (years) column has non-zero value only when Smokes column has non-zero value. Also, the predictions depends on the number of years the person is smoking rather than just whether the smokes or not."
   ]
  },
  {
   "cell_type": "code",
   "execution_count": null,
   "metadata": {
    "_uuid": "19f2eba4ec9a99a72c6de597a45eb45771cd1287",
    "execution": {
     "iopub.execute_input": "2021-11-27T07:41:18.984442Z",
     "iopub.status.busy": "2021-11-27T07:41:18.983815Z",
     "iopub.status.idle": "2021-11-27T07:41:18.989788Z",
     "shell.execute_reply": "2021-11-27T07:41:18.98897Z",
     "shell.execute_reply.started": "2021-11-27T07:41:18.984385Z"
    }
   },
   "outputs": [],
   "source": [
    "## removing the smokes column from the dataframe.\n",
    "\n",
    "cancer_df.drop('Smokes',axis=1,inplace=True)"
   ]
  },
  {
   "cell_type": "code",
   "execution_count": null,
   "metadata": {
    "_uuid": "7176b1381ca52c109b0f487ee0dffa72a1c77926",
    "execution": {
     "iopub.execute_input": "2021-11-27T07:41:19.790509Z",
     "iopub.status.busy": "2021-11-27T07:41:19.790141Z",
     "iopub.status.idle": "2021-11-27T07:41:19.802725Z",
     "shell.execute_reply": "2021-11-27T07:41:19.801976Z",
     "shell.execute_reply.started": "2021-11-27T07:41:19.790445Z"
    }
   },
   "outputs": [],
   "source": [
    "smokes_table = pd.crosstab(index=cancer_df[\"Schiller\"], \n",
    "                          columns=(cancer_df[\"Smokes (years)\"]))"
   ]
  },
  {
   "cell_type": "code",
   "execution_count": null,
   "metadata": {
    "_uuid": "ce567261f1eb547d0d48570c3fdcaa4e477116a7",
    "execution": {
     "iopub.execute_input": "2021-11-27T07:41:20.799834Z",
     "iopub.status.busy": "2021-11-27T07:41:20.799166Z",
     "iopub.status.idle": "2021-11-27T07:41:21.574011Z",
     "shell.execute_reply": "2021-11-27T07:41:21.573191Z",
     "shell.execute_reply.started": "2021-11-27T07:41:20.799782Z"
    }
   },
   "outputs": [],
   "source": [
    "g = sns.PairGrid(cancer_df,\n",
    "                 y_vars=['Smokes (years)'],\n",
    "                 x_vars= category_df,\n",
    "                 aspect=.75, size=3.5)\n",
    "g.map(sns.stripplot, palette=\"winter\");\n",
    "\n",
    "g = sns.PairGrid(cancer_df,\n",
    "                 y_vars=['Smokes (packs/year)'],\n",
    "                 x_vars= category_df,\n",
    "                 aspect=.75, size=3.5)\n",
    "g.map(sns.stripplot, palette=\"spring\");"
   ]
  },
  {
   "cell_type": "markdown",
   "metadata": {
    "_uuid": "c619f301e2839b0fac3796fdcb0143b3af19f55e"
   },
   "source": [
    "Based on the distribution of data points in the scatter plot, the schiller and Biopsy tests are showing that women who are smoking for more than 5 years are having more chances of getting the tumor."
   ]
  },
  {
   "cell_type": "code",
   "execution_count": null,
   "metadata": {
    "_uuid": "bdb824019a52a0d608d40503d51e7dced4e766a2",
    "execution": {
     "iopub.execute_input": "2021-11-27T07:41:22.427468Z",
     "iopub.status.busy": "2021-11-27T07:41:22.427133Z",
     "iopub.status.idle": "2021-11-27T07:41:22.432776Z",
     "shell.execute_reply": "2021-11-27T07:41:22.432054Z",
     "shell.execute_reply.started": "2021-11-27T07:41:22.427404Z"
    }
   },
   "outputs": [],
   "source": [
    "#### Similar study as Smokes can be conducted for other features like Harmonal Contraceptives etc.\n",
    "\n",
    "\n",
    "cancer_df.drop('Hormonal Contraceptives',axis=1,inplace=True)"
   ]
  },
  {
   "cell_type": "code",
   "execution_count": null,
   "metadata": {
    "execution": {
     "iopub.execute_input": "2021-11-27T07:41:23.882885Z",
     "iopub.status.busy": "2021-11-27T07:41:23.882298Z",
     "iopub.status.idle": "2021-11-27T07:41:26.523871Z",
     "shell.execute_reply": "2021-11-27T07:41:26.523186Z",
     "shell.execute_reply.started": "2021-11-27T07:41:23.882833Z"
    }
   },
   "outputs": [],
   "source": [
    "# Correlation Matrix for each features\n",
    "corrmat = round(cancer_df.corr(), 2)\n",
    "top_corr_features = corrmat.index\n",
    "plt.figure(figsize=(20,20))\n",
    "#plot heat map\n",
    "g=sns.heatmap(cancer_df[top_corr_features].corr(),annot=True,fmt='.2f',cmap=\"YlGnBu\")"
   ]
  },
  {
   "cell_type": "code",
   "execution_count": null,
   "metadata": {
    "_uuid": "9ac67c8a3fe2d87dedf435e92a66e682450e216f",
    "execution": {
     "iopub.execute_input": "2021-11-26T03:47:07.414542Z",
     "iopub.status.busy": "2021-11-26T03:47:07.414208Z",
     "iopub.status.idle": "2021-11-26T03:47:07.430316Z",
     "shell.execute_reply": "2021-11-26T03:47:07.429131Z",
     "shell.execute_reply.started": "2021-11-26T03:47:07.414483Z"
    }
   },
   "outputs": [],
   "source": [
    "harmones_table = pd.crosstab(index=cancer_df[\"Schiller\"], \n",
    "                          columns=(cancer_df[\"Hormonal Contraceptives (years)\"]))\n"
   ]
  },
  {
   "cell_type": "code",
   "execution_count": null,
   "metadata": {
    "_uuid": "9774b8d286df101e4b31ca2509238222e977988a",
    "execution": {
     "iopub.execute_input": "2021-11-26T03:47:09.603631Z",
     "iopub.status.busy": "2021-11-26T03:47:09.602961Z",
     "iopub.status.idle": "2021-11-26T03:47:10.621325Z",
     "shell.execute_reply": "2021-11-26T03:47:10.620515Z",
     "shell.execute_reply.started": "2021-11-26T03:47:09.603556Z"
    }
   },
   "outputs": [],
   "source": [
    "for feature in category_df:\n",
    "\n",
    " as_fig = sns.FacetGrid(cancer_df,hue=feature,aspect=5)\n",
    "\n",
    " as_fig.map(sns.kdeplot,'Hormonal Contraceptives (years)',shade=True)\n",
    "\n",
    " oldest = cancer_df['Hormonal Contraceptives (years)'].max()\n",
    "\n",
    " as_fig.set(xlim=(0,oldest))\n",
    "\n",
    " as_fig.add_legend()"
   ]
  },
  {
   "cell_type": "markdown",
   "metadata": {
    "_uuid": "faae10ab157dffa65e9198364324b4f881525fa9"
   },
   "source": [
    "Women who have taken the harmonal contraceptives for more than five years have the higher risk of cervical cancer. The small peaks at the age 10 & 15 shows even higher risk than women who have not used the contraceptives. The resources here: https://www.cancer.gov/about-cancer/causes-prevention/risk/hormones/oral-contraceptives-fact-sheet#q6 shows the studies supporting the statement that women face higher risk of cervical cancer if they used harmonal contraceptives. So, we can consider that this feature has the high correlation and should be used in furthur analysis."
   ]
  },
  {
   "cell_type": "code",
   "execution_count": null,
   "metadata": {
    "_uuid": "34b4f65534fff841be21ffcc4c7aa33a323cdcd2",
    "execution": {
     "iopub.execute_input": "2021-11-26T03:47:35.561961Z",
     "iopub.status.busy": "2021-11-26T03:47:35.561641Z",
     "iopub.status.idle": "2021-11-26T03:47:35.568225Z",
     "shell.execute_reply": "2021-11-26T03:47:35.567381Z",
     "shell.execute_reply.started": "2021-11-26T03:47:35.561911Z"
    }
   },
   "outputs": [],
   "source": [
    "### Dropping IUD column because IUD (years) has a non-zero value only if IUD is non-zero.\n",
    "\n",
    "cancer_df.drop('IUD',axis=1,inplace=True)"
   ]
  },
  {
   "cell_type": "code",
   "execution_count": null,
   "metadata": {
    "_uuid": "fe8eb5c19c165643f78c481d09c9c9b985730662",
    "execution": {
     "iopub.execute_input": "2021-11-26T03:47:37.374217Z",
     "iopub.status.busy": "2021-11-26T03:47:37.373873Z",
     "iopub.status.idle": "2021-11-26T03:47:37.648331Z",
     "shell.execute_reply": "2021-11-26T03:47:37.647524Z",
     "shell.execute_reply.started": "2021-11-26T03:47:37.37415Z"
    }
   },
   "outputs": [],
   "source": [
    "\n",
    "sns.factorplot('IUD (years)',data=cancer_df,kind='count',aspect=5)"
   ]
  },
  {
   "cell_type": "code",
   "execution_count": null,
   "metadata": {
    "_uuid": "39a272bb31bd70401e8bc0690ff0728192b40613",
    "execution": {
     "iopub.execute_input": "2021-11-26T03:47:48.131204Z",
     "iopub.status.busy": "2021-11-26T03:47:48.130887Z",
     "iopub.status.idle": "2021-11-26T03:47:56.923133Z",
     "shell.execute_reply": "2021-11-26T03:47:56.922446Z",
     "shell.execute_reply.started": "2021-11-26T03:47:48.131148Z"
    }
   },
   "outputs": [],
   "source": [
    "g = sns.PairGrid(cancer_df,\n",
    "                 y_vars=['IUD (years)'],\n",
    "                 x_vars= category_df,\n",
    "                 aspect=.75, size=5.5)\n",
    "g.map(sns.violinplot, palette=\"Accent\",inner='stick');"
   ]
  },
  {
   "cell_type": "markdown",
   "metadata": {
    "_uuid": "1e70e8e94c9b44ea5d94b7d9e9ad0c0883d824f3"
   },
   "source": [
    "The distribution of zero(negative test result) shows that the IUD used for any number of years has less chance of facing risk of cancer. Latest studies says that Women Who Use IUDs May Have Lower Risk of Cervical Cancer. Resource: https://www.livescience.com/60881-iuds-may-lower-risk-of-cervical-cancer.html. So does the presence of IUD feature makes any difference in prediction? lets see!!"
   ]
  },
  {
   "cell_type": "code",
   "execution_count": null,
   "metadata": {
    "_uuid": "7ddd3fd7f7fe8afe65a3861db02431a7fb2a24df",
    "execution": {
     "iopub.execute_input": "2021-11-26T03:47:56.924306Z",
     "iopub.status.busy": "2021-11-26T03:47:56.924085Z",
     "iopub.status.idle": "2021-11-26T03:47:56.941644Z",
     "shell.execute_reply": "2021-11-26T03:47:56.940947Z",
     "shell.execute_reply.started": "2021-11-26T03:47:56.924273Z"
    }
   },
   "outputs": [],
   "source": [
    "HU_table = pd.crosstab(index=cancer_df[\"Biopsy\"], \n",
    "                          columns=(cancer_df[\"IUD (years)\"]))\n"
   ]
  },
  {
   "cell_type": "code",
   "execution_count": null,
   "metadata": {
    "_uuid": "348098b27c43dcd2c8c6508c491fad855fb11dda",
    "execution": {
     "iopub.execute_input": "2021-11-26T03:47:56.943083Z",
     "iopub.status.busy": "2021-11-26T03:47:56.942863Z",
     "iopub.status.idle": "2021-11-26T03:47:57.072267Z",
     "shell.execute_reply": "2021-11-26T03:47:57.071441Z",
     "shell.execute_reply.started": "2021-11-26T03:47:56.943049Z"
    }
   },
   "outputs": [],
   "source": [
    "cancer_df['STDs (number)'] = round(cancer_df['STDs (number)'].convert_objects(convert_numeric=True))\n",
    "sns.countplot('STDs (number)',data=cancer_df)"
   ]
  },
  {
   "cell_type": "code",
   "execution_count": null,
   "metadata": {
    "_uuid": "4b26d9c5c79773ce5d6443cc0428f221f60af9c0",
    "execution": {
     "iopub.execute_input": "2021-11-26T03:47:59.561769Z",
     "iopub.status.busy": "2021-11-26T03:47:59.56142Z",
     "iopub.status.idle": "2021-11-26T03:47:59.693218Z",
     "shell.execute_reply": "2021-11-26T03:47:59.692166Z",
     "shell.execute_reply.started": "2021-11-26T03:47:59.561703Z"
    }
   },
   "outputs": [],
   "source": [
    "sns.stripplot(x='Hinselmann',y='STDs (number)',data=cancer_df)"
   ]
  },
  {
   "cell_type": "code",
   "execution_count": null,
   "metadata": {
    "_uuid": "5ab6b3bd7e99be666455f59ce79ef9344f076f49",
    "execution": {
     "iopub.execute_input": "2021-11-26T03:48:01.788645Z",
     "iopub.status.busy": "2021-11-26T03:48:01.787833Z",
     "iopub.status.idle": "2021-11-26T03:48:01.819236Z",
     "shell.execute_reply": "2021-11-26T03:48:01.818327Z",
     "shell.execute_reply.started": "2021-11-26T03:48:01.788558Z"
    }
   },
   "outputs": [],
   "source": [
    "std_table = pd.crosstab(index=cancer_df[\"Hinselmann\"], \n",
    "                          columns=cancer_df[\"STDs (number)\"])\n",
    "\n",
    "std_table"
   ]
  },
  {
   "cell_type": "code",
   "execution_count": null,
   "metadata": {
    "_uuid": "a91e5f18a6e73aaaee80d02c0b5e79382fc9d189",
    "execution": {
     "iopub.execute_input": "2021-11-26T03:48:15.708797Z",
     "iopub.status.busy": "2021-11-26T03:48:15.70851Z",
     "iopub.status.idle": "2021-11-26T03:48:15.884863Z",
     "shell.execute_reply": "2021-11-26T03:48:15.883997Z",
     "shell.execute_reply.started": "2021-11-26T03:48:15.708762Z"
    }
   },
   "outputs": [],
   "source": [
    "sns.heatmap(std_table,annot=True, fmt=\"d\",cmap=\"YlGnBu\",linewidths=0.5)"
   ]
  },
  {
   "cell_type": "code",
   "execution_count": null,
   "metadata": {
    "_uuid": "fa7cd4aee81c0192a2f927df2dec92b0c4eb5caf",
    "execution": {
     "iopub.execute_input": "2021-11-26T03:48:41.270209Z",
     "iopub.status.busy": "2021-11-26T03:48:41.269887Z",
     "iopub.status.idle": "2021-11-26T03:48:41.304066Z",
     "shell.execute_reply": "2021-11-26T03:48:41.303312Z",
     "shell.execute_reply.started": "2021-11-26T03:48:41.270128Z"
    }
   },
   "outputs": [],
   "source": [
    "std_table_cit = pd.crosstab(index=cancer_df[\"Citology\"], \n",
    "                          columns=cancer_df[\"STDs (number)\"])\n",
    "\n",
    "std_table_sch = pd.crosstab(index=cancer_df[\"Schiller\"], \n",
    "                          columns=cancer_df[\"STDs (number)\"])\n",
    "std_table_bio = pd.crosstab(index=cancer_df[\"Biopsy\"], \n",
    "                          columns=cancer_df[\"STDs (number)\"])"
   ]
  },
  {
   "cell_type": "code",
   "execution_count": null,
   "metadata": {
    "_uuid": "faaa3648326c560ba041e126f578c048c60aaf69",
    "execution": {
     "iopub.execute_input": "2021-11-26T03:48:57.881206Z",
     "iopub.status.busy": "2021-11-26T03:48:57.880551Z",
     "iopub.status.idle": "2021-11-26T03:48:58.055155Z",
     "shell.execute_reply": "2021-11-26T03:48:58.054348Z",
     "shell.execute_reply.started": "2021-11-26T03:48:57.881139Z"
    }
   },
   "outputs": [],
   "source": [
    "sns.heatmap(std_table_cit,annot=True, fmt=\"d\",cmap=\"YlGnBu\",linewidths=0.5)"
   ]
  },
  {
   "cell_type": "code",
   "execution_count": null,
   "metadata": {
    "_uuid": "25a478f47d8d794599e8d6112a6259ea1fff1229",
    "execution": {
     "iopub.execute_input": "2021-11-26T03:49:08.947293Z",
     "iopub.status.busy": "2021-11-26T03:49:08.946701Z",
     "iopub.status.idle": "2021-11-26T03:49:09.115594Z",
     "shell.execute_reply": "2021-11-26T03:49:09.114796Z",
     "shell.execute_reply.started": "2021-11-26T03:49:08.947243Z"
    }
   },
   "outputs": [],
   "source": [
    "sns.heatmap(std_table_sch,annot=True, fmt=\"d\",cmap=\"YlGnBu\",linewidths=0.5)"
   ]
  },
  {
   "cell_type": "code",
   "execution_count": null,
   "metadata": {
    "_uuid": "20b48701940f299721612b843bf37053be1bf484",
    "execution": {
     "iopub.execute_input": "2021-11-26T03:49:10.815604Z",
     "iopub.status.busy": "2021-11-26T03:49:10.814978Z",
     "iopub.status.idle": "2021-11-26T03:49:10.991621Z",
     "shell.execute_reply": "2021-11-26T03:49:10.988776Z",
     "shell.execute_reply.started": "2021-11-26T03:49:10.815257Z"
    }
   },
   "outputs": [],
   "source": [
    "sns.heatmap(std_table_bio,annot=True, fmt=\"d\",cmap=\"YlGnBu\",linewidths=0.5)"
   ]
  },
  {
   "cell_type": "code",
   "execution_count": null,
   "metadata": {
    "_uuid": "daf9689b07625edbea9ab3a74a0f6c46b177d3ad",
    "execution": {
     "iopub.execute_input": "2021-11-26T03:49:13.300553Z",
     "iopub.status.busy": "2021-11-26T03:49:13.300214Z",
     "iopub.status.idle": "2021-11-26T03:49:13.307132Z",
     "shell.execute_reply": "2021-11-26T03:49:13.305998Z",
     "shell.execute_reply.started": "2021-11-26T03:49:13.300494Z"
    }
   },
   "outputs": [],
   "source": [
    "cancer_df.drop('Dx',axis=1,inplace=True)"
   ]
  },
  {
   "cell_type": "markdown",
   "metadata": {
    "_uuid": "232bdbe7f4ffd474b90dc824a0efdc6107999c69"
   },
   "source": [
    " Starting to build the Machine Learning model with the final features: 'Age', 'Number of sexual partners', 'First sexual intercourse',\n",
    " 'Num of pregnancies', 'Smokes (years)', 'Smokes (packs/year)', 'Hormonal Contraceptives (years)', 'IUD (years)',\n",
    "'STDs', 'STDs (number)', 'STDs:condylomatosis', 'STDs:cervical condylomatosis','STDs:vaginal condylomatosis', \n",
    "'STDs:vulvo-perineal condylomatosis','STDs:syphilis', 'STDs:pelvic inflammatory disease','STDs:genital herpes',\n",
    "'STDs:molluscum contagiosum', 'STDs:AIDS','STDs:HIV', 'STDs:Hepatitis B', 'STDs:HPV', 'STDs: Number of diagnosis',\n",
    "'Dx:Cancer', 'Dx:CIN', 'Dx:HPV',\n",
    "\n"
   ]
  },
  {
   "cell_type": "code",
   "execution_count": null,
   "metadata": {
    "_uuid": "028d771af8fd42ffe527c4dd384381057d6750c7",
    "execution": {
     "iopub.execute_input": "2021-11-26T03:49:21.701206Z",
     "iopub.status.busy": "2021-11-26T03:49:21.700851Z",
     "iopub.status.idle": "2021-11-26T03:49:21.708283Z",
     "shell.execute_reply": "2021-11-26T03:49:21.707373Z",
     "shell.execute_reply.started": "2021-11-26T03:49:21.701115Z"
    }
   },
   "outputs": [],
   "source": [
    "cancer_df_features = cancer_df.drop(['Hinselmann', 'Schiller', 'Citology','Biopsy'],axis=1)\n",
    "cancer_df_label = pd.DataFrame(data=cancer_df['Hinselmann'])"
   ]
  },
  {
   "cell_type": "code",
   "execution_count": null,
   "metadata": {
    "_uuid": "316cf74c9f3c89343258f6b1254b4468b3a925ec",
    "execution": {
     "iopub.execute_input": "2021-11-26T03:49:55.176298Z",
     "iopub.status.busy": "2021-11-26T03:49:55.17582Z",
     "iopub.status.idle": "2021-11-26T03:49:55.182671Z",
     "shell.execute_reply": "2021-11-26T03:49:55.181937Z",
     "shell.execute_reply.started": "2021-11-26T03:49:55.176079Z"
    }
   },
   "outputs": [],
   "source": [
    "cancer_df_label['Schiller'] = cancer_df['Schiller']\n",
    "cancer_df_label['Citology'] = cancer_df['Citology']\n",
    "cancer_df_label['Biopsy'] = cancer_df['Biopsy']"
   ]
  },
  {
   "cell_type": "markdown",
   "metadata": {
    "_uuid": "7e6ea7bd2c21712b6e7f93e3904944bcdc99bc36"
   },
   "source": [
    "There are 4 target variables in the dataset. For building the model, I have considered a new variable cervical_cancer which is the sum of the 4 target variables. That is,\n",
    "Cervical_cancer = Hinselmann + Schiller + Citology + Biopsy\n",
    "Which gives five different values ranging from 0 to 4. These values represent the level of risk i.e. 0 represent no risk and 4 represents higher level of risk. So, the final class/target variables are 0, 1, 2, 3, 4."
   ]
  },
  {
   "cell_type": "code",
   "execution_count": null,
   "metadata": {
    "_uuid": "3cc4c0d181dad160f9aed486baf5914a66eb0ca3",
    "execution": {
     "iopub.execute_input": "2021-11-26T03:51:15.444382Z",
     "iopub.status.busy": "2021-11-26T03:51:15.444081Z",
     "iopub.status.idle": "2021-11-26T03:51:15.478644Z",
     "shell.execute_reply": "2021-11-26T03:51:15.477712Z",
     "shell.execute_reply.started": "2021-11-26T03:51:15.444336Z"
    }
   },
   "outputs": [],
   "source": [
    "def cervical_cancer(cancer_label):\n",
    "    \n",
    "    hil, sch, cit, bio = cancer_label\n",
    "    \n",
    "    return hil+sch+cit+bio\n",
    "\n",
    "cancer_df_label['cervical_cancer'] = cancer_df_label[['Hinselmann', 'Schiller', 'Citology','Biopsy']].apply(cervical_cancer,axis=1)"
   ]
  },
  {
   "cell_type": "code",
   "execution_count": null,
   "metadata": {
    "_uuid": "43866ecade95af7c9eb729282c8c8f0e8fdf3c5c",
    "execution": {
     "iopub.execute_input": "2021-11-26T03:51:16.522612Z",
     "iopub.status.busy": "2021-11-26T03:51:16.521943Z",
     "iopub.status.idle": "2021-11-26T03:51:16.538959Z",
     "shell.execute_reply": "2021-11-26T03:51:16.536729Z",
     "shell.execute_reply.started": "2021-11-26T03:51:16.522553Z"
    }
   },
   "outputs": [],
   "source": [
    "cancer_df_label.drop(['Hinselmann', 'Schiller', 'Citology','Biopsy'],axis=1,inplace=True)\n",
    "print('Value counts of each target variable:',cancer_df_label['cervical_cancer'].value_counts())\n",
    "cancer_df_label = cancer_df_label.astype(int)\n",
    "cancer_df_label = cancer_df_label.values.ravel()\n",
    "\n",
    "print('Final feature vector shape:',cancer_df_features.shape)\n",
    "print('Final target vector shape',cancer_df_label.shape)\n"
   ]
  },
  {
   "cell_type": "markdown",
   "metadata": {
    "_uuid": "1ebef9cbfcc896277c187c1404cb005cdf24337f"
   },
   "source": [
    "As there are only 6 data points in the class 4, it is difficult to train and test the model. To overcome this problem of imbalance,  oversampling technique is used with SMOTE."
   ]
  },
  {
   "cell_type": "code",
   "execution_count": null,
   "metadata": {
    "_uuid": "03822752c724531a5b46714283d9c0f2b770c939",
    "execution": {
     "iopub.execute_input": "2021-11-26T03:53:35.840276Z",
     "iopub.status.busy": "2021-11-26T03:53:35.839931Z",
     "iopub.status.idle": "2021-11-26T03:59:22.345691Z",
     "shell.execute_reply": "2021-11-26T03:59:22.343874Z",
     "shell.execute_reply.started": "2021-11-26T03:53:35.840233Z"
    }
   },
   "outputs": [],
   "source": [
    "### cross validation on 26 features model with oversampling and StratifiedKFold\n",
    "from sklearn.model_selection import StratifiedKFold\n",
    "from sklearn import model_selection\n",
    "from sklearn.linear_model import LogisticRegressionCV\n",
    "from sklearn.ensemble import RandomForestClassifier\n",
    "from sklearn import svm\n",
    "\n",
    "\n",
    "models = []\n",
    "models.append(('LogisticRegMulti', LogisticRegressionCV(class_weight=None, multi_class='multinomial', solver='newton-cg', max_iter=1000,penalty='l2')))\n",
    "models.append(('LogisticRegOVR', LogisticRegressionCV(class_weight=None, multi_class='ovr', solver='newton-cg', max_iter=1000,penalty='l2')))\n",
    "models.append(('svm_linear', svm.LinearSVC(C=1.0,class_weight=None,multi_class='ovr',penalty='l2',max_iter=1000)))\n",
    "models.append(('svm_rbf', svm.SVC(gamma='auto', C=1.2,degree=4, probability=True,kernel='rbf',decision_function_shape='ovr')))\n",
    "models.append(('RandomForest',RandomForestClassifier(n_jobs=4, bootstrap=True, class_weight=None, criterion='gini',max_depth=None, max_features='auto', max_leaf_nodes=None,\n",
    "                         min_samples_leaf=1, min_samples_split=2,min_weight_fraction_leaf=0.0, n_estimators=10, \n",
    "                         oob_score=False, random_state=None, verbose=0,warm_start=False)\n",
    "))\n",
    "\n",
    "# evaluate each model in turn\n",
    "results_all = []\n",
    "names = []\n",
    "dict_method_score = {}\n",
    "scoring = 'recall_weighted'\n",
    "\n",
    "## oversampling\n",
    "from imblearn.over_sampling import SMOTE, ADASYN\n",
    "cancer_df_features_ovr, cancer_df_label_ovr = SMOTE().fit_sample(cancer_df_features, cancer_df_label)\n",
    "\n",
    "print('Results of the cross validation on dataset with 26 features:\\n')\n",
    "for name, model in models:\n",
    "    skfold = StratifiedKFold(n_splits=5, random_state=999)\n",
    "    cv_results = model_selection.cross_val_score(model, cancer_df_features_ovr, cancer_df_label_ovr, cv=skfold, scoring=scoring)    \n",
    "    results_all.append(cv_results)\n",
    "    names.append(name)\n",
    "    dict_method_score[name] = (cv_results.mean(), cv_results.std())\n",
    "    print(\"{:s}: {:.3f} ({:.3f})\".format(name, cv_results.mean(), cv_results.std()))"
   ]
  },
  {
   "cell_type": "code",
   "execution_count": null,
   "metadata": {
    "_uuid": "199336fdaac639cb43667505d49e24826786c44d",
    "execution": {
     "iopub.execute_input": "2021-11-26T03:59:22.347343Z",
     "iopub.status.busy": "2021-11-26T03:59:22.346986Z",
     "iopub.status.idle": "2021-11-26T03:59:22.473302Z",
     "shell.execute_reply": "2021-11-26T03:59:22.472541Z",
     "shell.execute_reply.started": "2021-11-26T03:59:22.347274Z"
    }
   },
   "outputs": [],
   "source": [
    "### Building a model for future predictions:\n",
    "\n",
    "random_forest_model = RandomForestClassifier(n_jobs=4, bootstrap=True, class_weight=None, criterion='gini',max_depth=None, max_features='auto', max_leaf_nodes=None,\n",
    "                         min_samples_leaf=1, min_samples_split=2,min_weight_fraction_leaf=0.0, n_estimators=10, \n",
    "                         oob_score=False, random_state=None, verbose=0,warm_start=False)\n",
    "\n",
    "random_forest_model.fit(cancer_df_features,cancer_df_label)\n"
   ]
  },
  {
   "cell_type": "code",
   "execution_count": null,
   "metadata": {
    "_uuid": "b511a25c868fdef8316d883a97d799465acc7761",
    "execution": {
     "iopub.execute_input": "2021-11-26T03:59:22.475228Z",
     "iopub.status.busy": "2021-11-26T03:59:22.4747Z",
     "iopub.status.idle": "2021-11-26T03:59:22.586786Z",
     "shell.execute_reply": "2021-11-26T03:59:22.5857Z",
     "shell.execute_reply.started": "2021-11-26T03:59:22.475155Z"
    }
   },
   "outputs": [],
   "source": [
    "### Women with an age of 19, Number of sexual partners:1,First sexual intercourse:17,Num of pregnancies:1,Smokes (years):1, Smokes (packs/year):3.4, \n",
    "### Hormonal Contraceptives (years): 0 and all the other features are 0\n",
    "\n",
    "print('Testing the model on women with age less than 20:',random_forest_model.predict(np.array([[19,1,17,1,1,3.4,0,0,0,0,0,0,0,0,0,0,0,0,0,0,0,0,0,0,0,0]])))\n"
   ]
  },
  {
   "cell_type": "code",
   "execution_count": null,
   "metadata": {
    "_uuid": "e96bf504112e6926689cd9e9bff2a39b4aa3d064",
    "execution": {
     "iopub.execute_input": "2021-11-26T03:59:22.589285Z",
     "iopub.status.busy": "2021-11-26T03:59:22.588984Z",
     "iopub.status.idle": "2021-11-26T03:59:22.697845Z",
     "shell.execute_reply": "2021-11-26T03:59:22.697099Z",
     "shell.execute_reply.started": "2021-11-26T03:59:22.589229Z"
    }
   },
   "outputs": [],
   "source": [
    "### Women with an age of 35, Number of sexual partners:5,First sexual intercourse:11,Num of pregnancies:2,Smokes (years):15, Smokes (packs/year):15, \n",
    "### Hormonal Contraceptives (years): 0 and all the other features are 0\n",
    "print('Testing the model',random_forest_model.predict(np.array([[35,5,11,2,15,15,14,0,0,0,0,0,0,0,0,0,0,0,0,0,0,0,0,0,0,0]])))\n"
   ]
  },
  {
   "cell_type": "code",
   "execution_count": null,
   "metadata": {
    "_uuid": "f11b805b121c89dc9551a91b751002f94529e39c",
    "execution": {
     "iopub.execute_input": "2021-11-26T03:59:22.699246Z",
     "iopub.status.busy": "2021-11-26T03:59:22.698827Z",
     "iopub.status.idle": "2021-11-26T03:59:22.808236Z",
     "shell.execute_reply": "2021-11-26T03:59:22.807349Z",
     "shell.execute_reply.started": "2021-11-26T03:59:22.699155Z"
    }
   },
   "outputs": [],
   "source": [
    "### Women with an age of 48, Number of sexual partners:2,First sexual intercourse:15,Num of pregnancies:2,Smokes (years):0, Smokes (packs/year):0, \n",
    "### Hormonal Contraceptives (years): 0.5,IUD (years):19,STDs:genital herpes:1 and all the other features are 0\n",
    "\n",
    "print('Testing the model on Raw Data:',random_forest_model.predict(np.array([[48,2,15,2,0,0,0.5,19,0,0,0,0,0,0,0,0,1,0,0,0,0,0,1,0,0,0]])))"
   ]
  },
  {
   "cell_type": "code",
   "execution_count": null,
   "metadata": {
    "_uuid": "4be0962edbbd53d753524c0900318cf7d8f0788f",
    "collapsed": true,
    "jupyter": {
     "outputs_hidden": true
    }
   },
   "outputs": [],
   "source": []
  },
  {
   "cell_type": "code",
   "execution_count": null,
   "metadata": {},
   "outputs": [],
   "source": []
  },
  {
   "cell_type": "code",
   "execution_count": null,
   "metadata": {},
   "outputs": [],
   "source": []
  }
 ],
 "metadata": {
  "kernelspec": {
   "display_name": "Python 3",
   "language": "python",
   "name": "python3"
  },
  "language_info": {
   "codemirror_mode": {
    "name": "ipython",
    "version": 3
   },
   "file_extension": ".py",
   "mimetype": "text/x-python",
   "name": "python",
   "nbconvert_exporter": "python",
   "pygments_lexer": "ipython3",
   "version": "3.8.5"
  }
 },
 "nbformat": 4,
 "nbformat_minor": 4
}
